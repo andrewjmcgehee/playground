{
 "cells": [
  {
   "cell_type": "code",
   "execution_count": null,
   "metadata": {},
   "outputs": [],
   "source": []
  }
 ],
 "metadata": {
  "kernelspec": {
   "display_name": "pytorch",
   "language": "python",
   "name": "python3"
  },
  "language_info": {
   "name": "python",
   "version": "3.10.9"
  },
  "orig_nbformat": 4,
  "vscode": {
   "interpreter": {
    "hash": "cc9710e272ca05928cb96303b158f61456c0690257b2e7a52a46582c6b1ef399"
   }
  }
 },
 "nbformat": 4,
 "nbformat_minor": 2
}
